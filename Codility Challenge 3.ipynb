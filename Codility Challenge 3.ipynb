{
 "cells": [
  {
   "cell_type": "code",
   "execution_count": 26,
   "metadata": {},
   "outputs": [],
   "source": [
    "def solution(A):\n",
    "    B = []\n",
    "    node = 0\n",
    "    for i in range(0, len(A)+1):\n",
    "        num = A[node]\n",
    "        B.append(num)\n",
    "        print B\n",
    "        print i\n",
    "        if num == -1:\n",
    "            break\n",
    "        else:\n",
    "            node = A[node]\n",
    "    return len(B)"
   ]
  },
  {
   "cell_type": "code",
   "execution_count": 29,
   "metadata": {},
   "outputs": [
    {
     "name": "stdout",
     "output_type": "stream",
     "text": [
      "[2]\n",
      "0\n",
      "[2, 1]\n",
      "1\n",
      "[2, 1, 5]\n",
      "2\n",
      "[2, 1, 5, 3]\n",
      "3\n",
      "[2, 1, 5, 3, 7]\n",
      "4\n",
      "[2, 1, 5, 3, 7, 4]\n",
      "5\n",
      "[2, 1, 5, 3, 7, 4, 6]\n",
      "6\n",
      "[2, 1, 5, 3, 7, 4, 6, -1]\n",
      "7\n"
     ]
    },
    {
     "data": {
      "text/plain": [
       "8"
      ]
     },
     "execution_count": 29,
     "metadata": {},
     "output_type": "execute_result"
    }
   ],
   "source": [
    "solution([2, 5, 1, 7, 6, 3, -1, 4])"
   ]
  },
  {
   "cell_type": "code",
   "execution_count": 31,
   "metadata": {},
   "outputs": [
    {
     "name": "stdout",
     "output_type": "stream",
     "text": [
      "[2]\n",
      "0\n",
      "[2, 1]\n",
      "1\n",
      "[2, 1, 5]\n",
      "2\n",
      "[2, 1, 5, 3]\n",
      "3\n",
      "[2, 1, 5, 3, -1]\n",
      "4\n"
     ]
    },
    {
     "data": {
      "text/plain": [
       "5"
      ]
     },
     "execution_count": 31,
     "metadata": {},
     "output_type": "execute_result"
    }
   ],
   "source": [
    "solution([2, 5, 1, -1, 7, 3])"
   ]
  },
  {
   "cell_type": "code",
   "execution_count": null,
   "metadata": {
    "collapsed": true
   },
   "outputs": [],
   "source": []
  }
 ],
 "metadata": {
  "kernelspec": {
   "display_name": "Python 2",
   "language": "python",
   "name": "python2"
  },
  "language_info": {
   "codemirror_mode": {
    "name": "ipython",
    "version": 2
   },
   "file_extension": ".py",
   "mimetype": "text/x-python",
   "name": "python",
   "nbconvert_exporter": "python",
   "pygments_lexer": "ipython2",
   "version": "2.7.13"
  }
 },
 "nbformat": 4,
 "nbformat_minor": 2
}
